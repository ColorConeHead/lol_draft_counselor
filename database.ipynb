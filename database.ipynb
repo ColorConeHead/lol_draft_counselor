{
 "cells": [
  {
   "cell_type": "code",
   "execution_count": 7,
   "metadata": {},
   "outputs": [],
   "source": [
    "import requests\n",
    "import zipfile\n",
    "import os\n",
    "import time\n",
    "\n",
    "from tqdm import tqdm\n"
   ]
  },
  {
   "cell_type": "code",
   "execution_count": 3,
   "metadata": {},
   "outputs": [],
   "source": [
    "base_url = \"https://ddragon.leagueoflegends.com/cdn/dragontail-{}.tgz\""
   ]
  },
  {
   "cell_type": "code",
   "execution_count": null,
   "metadata": {},
   "outputs": [],
   "source": [
    "def download_latest():\n",
    "    try:\n",
    "        # 최신버전의 정보를 라이엇 홈페이지에서 가져온다\n",
    "        latest_version_url = \"https://ddragon.leagueoflegends.com/api/versions.json\"\n",
    "        response = requests.get(latest_version_url)\n",
    "        response.raise_for_status()\n",
    "        versions = response.json()\n",
    "        \n",
    "        # url 등 버전 정도를 얻지 못 했을 시 오류메시지를 출력\n",
    "        if not versions:\n",
    "            print(\"Could not retrieve versions.\")\n",
    "            return 0\n",
    "        \n",
    "        \n",
    "        latest_version = versions[0]\n",
    "        print(f\"Latest Data Dragon version: {latest_version}\")\n",
    "        \n",
    "        \n",
    "        \n",
    "        # Construct the download URL\n",
    "        download_url = base_url.format(latest_version)\n",
    "        print(f\"Downloading Data Dragon from: {download_url}\")\n",
    "        \n",
    "        # Download the file\n",
    "        response = requests.get(download_url, stream=True)\n",
    "        response.raise_for_status()\n",
    "        \n",
    "        # Save the downloaded file\n",
    "        file_name = f\"dragontail-{latest_version}.tgz\"\n",
    "        with open(file_name, \"wb\") as file:\n",
    "            for chunk in tqdm(response.iter_content(chunk_size=8192)):\n",
    "                file.write(chunk)\n",
    "        print(f\"Downloaded {file_name}\")\n",
    "        \n",
    "        # Extract the tar.gz file\n",
    "        print(\"Extracting files...\")\n",
    "        os.system(f\"tar -xvzf {file_name}\")\n",
    "        print(\"Extraction completed.\")\n",
    "        \n",
    "        # Optionally, delete the compressed file\n",
    "        # os.remove(file_name)\n",
    "        print(f\"Data Dragon for version {latest_version} is ready.\")\n",
    "    except requests.exceptions.RequestException as e:\n",
    "        print(f\"Error during download: {e}\")"
   ]
  },
  {
   "cell_type": "code",
   "execution_count": 6,
   "metadata": {},
   "outputs": [
    {
     "name": "stdout",
     "output_type": "stream",
     "text": [
      "Latest Data Dragon version: 14.23.1\n",
      "Downloading Data Dragon from: https://ddragon.leagueoflegends.com/cdn/dragontail-14.23.1.tgz\n",
      "Downloaded dragontail-14.23.1.tgz\n",
      "Extracting files...\n",
      "Extraction completed.\n",
      "Data Dragon for version 14.23.1 is ready.\n"
     ]
    }
   ],
   "source": [
    "download_latest()"
   ]
  },
  {
   "cell_type": "code",
   "execution_count": null,
   "metadata": {},
   "outputs": [],
   "source": []
  }
 ],
 "metadata": {
  "kernelspec": {
   "display_name": "base",
   "language": "python",
   "name": "python3"
  },
  "language_info": {
   "codemirror_mode": {
    "name": "ipython",
    "version": 3
   },
   "file_extension": ".py",
   "mimetype": "text/x-python",
   "name": "python",
   "nbconvert_exporter": "python",
   "pygments_lexer": "ipython3",
   "version": "3.9.13"
  }
 },
 "nbformat": 4,
 "nbformat_minor": 2
}
